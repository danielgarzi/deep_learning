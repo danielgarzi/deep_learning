{
 "cells": [
  {
   "cell_type": "code",
   "execution_count": 78,
   "id": "d6465fb7",
   "metadata": {
    "scrolled": true
   },
   "outputs": [
    {
     "data": {
      "text/html": [
       "<div>\n",
       "<style scoped>\n",
       "    .dataframe tbody tr th:only-of-type {\n",
       "        vertical-align: middle;\n",
       "    }\n",
       "\n",
       "    .dataframe tbody tr th {\n",
       "        vertical-align: top;\n",
       "    }\n",
       "\n",
       "    .dataframe thead th {\n",
       "        text-align: right;\n",
       "    }\n",
       "</style>\n",
       "<table border=\"1\" class=\"dataframe\">\n",
       "  <thead>\n",
       "    <tr style=\"text-align: right;\">\n",
       "      <th></th>\n",
       "      <th>0</th>\n",
       "      <th>1</th>\n",
       "      <th>2</th>\n",
       "      <th>3</th>\n",
       "      <th>4</th>\n",
       "      <th>5</th>\n",
       "      <th>6</th>\n",
       "      <th>7</th>\n",
       "      <th>8</th>\n",
       "    </tr>\n",
       "  </thead>\n",
       "  <tbody>\n",
       "    <tr>\n",
       "      <th>0</th>\n",
       "      <td>0</td>\n",
       "      <td>-0.294118</td>\n",
       "      <td>0.487437</td>\n",
       "      <td>0.180328</td>\n",
       "      <td>-0.292929</td>\n",
       "      <td>-1.000000</td>\n",
       "      <td>0.001490</td>\n",
       "      <td>-0.531170</td>\n",
       "      <td>-0.033333</td>\n",
       "    </tr>\n",
       "    <tr>\n",
       "      <th>1</th>\n",
       "      <td>1</td>\n",
       "      <td>-0.882353</td>\n",
       "      <td>-0.145729</td>\n",
       "      <td>0.081967</td>\n",
       "      <td>-0.414141</td>\n",
       "      <td>-1.000000</td>\n",
       "      <td>-0.207153</td>\n",
       "      <td>-0.766866</td>\n",
       "      <td>-0.666667</td>\n",
       "    </tr>\n",
       "    <tr>\n",
       "      <th>2</th>\n",
       "      <td>0</td>\n",
       "      <td>-0.058824</td>\n",
       "      <td>0.839196</td>\n",
       "      <td>0.049180</td>\n",
       "      <td>-1.000000</td>\n",
       "      <td>-1.000000</td>\n",
       "      <td>-0.305514</td>\n",
       "      <td>-0.492741</td>\n",
       "      <td>-0.633333</td>\n",
       "    </tr>\n",
       "    <tr>\n",
       "      <th>3</th>\n",
       "      <td>1</td>\n",
       "      <td>-0.882353</td>\n",
       "      <td>-0.105528</td>\n",
       "      <td>0.081967</td>\n",
       "      <td>-0.535354</td>\n",
       "      <td>-0.777778</td>\n",
       "      <td>-0.162444</td>\n",
       "      <td>-0.923997</td>\n",
       "      <td>-1.000000</td>\n",
       "    </tr>\n",
       "    <tr>\n",
       "      <th>4</th>\n",
       "      <td>0</td>\n",
       "      <td>-1.000000</td>\n",
       "      <td>0.376884</td>\n",
       "      <td>-0.344262</td>\n",
       "      <td>-0.292929</td>\n",
       "      <td>-0.602837</td>\n",
       "      <td>0.284650</td>\n",
       "      <td>0.887276</td>\n",
       "      <td>-0.600000</td>\n",
       "    </tr>\n",
       "  </tbody>\n",
       "</table>\n",
       "</div>"
      ],
      "text/plain": [
       "   0         1         2         3         4         5         6         7  \\\n",
       "0  0 -0.294118  0.487437  0.180328 -0.292929 -1.000000  0.001490 -0.531170   \n",
       "1  1 -0.882353 -0.145729  0.081967 -0.414141 -1.000000 -0.207153 -0.766866   \n",
       "2  0 -0.058824  0.839196  0.049180 -1.000000 -1.000000 -0.305514 -0.492741   \n",
       "3  1 -0.882353 -0.105528  0.081967 -0.535354 -0.777778 -0.162444 -0.923997   \n",
       "4  0 -1.000000  0.376884 -0.344262 -0.292929 -0.602837  0.284650  0.887276   \n",
       "\n",
       "          8  \n",
       "0 -0.033333  \n",
       "1 -0.666667  \n",
       "2 -0.633333  \n",
       "3 -1.000000  \n",
       "4 -0.600000  "
      ]
     },
     "execution_count": 78,
     "metadata": {},
     "output_type": "execute_result"
    }
   ],
   "source": [
    "import pandas as pd\n",
    "import numpy as np\n",
    "import matplotlib.pyplot as plt\n",
    "\n",
    "doc = open('desktop/paper/diabetes_scale.txt', 'r')\n",
    "data = doc.read()\n",
    "doc.close()\n",
    "data = data.split('\\n')\n",
    "\n",
    "data_list = []\n",
    "for raws in data:\n",
    "    data_list.append(raws.split(' '))\n",
    "    \n",
    "data_list.pop()\n",
    "\n",
    "for index_raw, raws in enumerate(data_list):\n",
    "    for index_col , column in enumerate(raws):\n",
    "        \n",
    "        if raws[index_col] == '':\n",
    "            data_list[index_raw].pop()\n",
    "            \n",
    "        elif raws[index_col][1] == ':':\n",
    "            raws[index_col] = float(raws[index_col][2:])\n",
    "        \n",
    "        elif raws[index_col][0] == '+':\n",
    "            raws[index_col] = int(1)\n",
    "            \n",
    "        elif raws[index_col][0] == '-':\n",
    "            raws[index_col] = int(0)\n",
    "        \n",
    "            \n",
    "data_frame = pd.DataFrame(data_list)\n",
    "data_frame = data_frame.fillna(0)\n",
    "data_frame.head()"
   ]
  },
  {
   "cell_type": "markdown",
   "id": "1f715a49",
   "metadata": {},
   "source": [
    "### Split Train a and Test Sets\n",
    "\n",
    "We will shuffle our date and split X and y into train and test set in a 75-25 proportion."
   ]
  },
  {
   "cell_type": "code",
   "execution_count": 79,
   "id": "89166a57",
   "metadata": {},
   "outputs": [
    {
     "name": "stdout",
     "output_type": "stream",
     "text": [
      "384 192 192\n"
     ]
    }
   ],
   "source": [
    "split_train = (len(data_frame)//4)*2\n",
    "split_val = (len(data_frame)//4)*3\n",
    "\n",
    "data_np = data_frame.to_numpy()\n",
    "np.random.seed(3)\n",
    "np.random.shuffle(data_np)\n",
    "\n",
    "y_train = data_np[:split_train,:1]\n",
    "y_val = data_np[split_train:split_val,:1]\n",
    "y_test = data_np[split_val:,:1]\n",
    "\n",
    "X_train = data_np[:split_train,1:]\n",
    "X_val = data_np[split_train:split_val,1:]\n",
    "X_test = data_np[split_val:,1:]\n",
    "\n",
    "print(len(X_train),len(X_val),len(X_test))"
   ]
  },
  {
   "cell_type": "code",
   "execution_count": 80,
   "id": "4ebf4428",
   "metadata": {},
   "outputs": [],
   "source": [
    "def accuracy_rate(predicted,actual):\n",
    "    trues = 0\n",
    "    if len(predicted) != len(actual):\n",
    "        return f'Different Size'\n",
    "    else:\n",
    "        for element in range(len(predicted)):\n",
    "            if predicted[element] == actual[element]:\n",
    "                trues += 1       \n",
    "    return float((trues/len(predicted)),)"
   ]
  },
  {
   "cell_type": "markdown",
   "id": "62c6b17e",
   "metadata": {},
   "source": [
    "## Neuron Implementation (McCulloch Pitts )"
   ]
  },
  {
   "cell_type": "code",
   "execution_count": 81,
   "id": "58b123fe",
   "metadata": {},
   "outputs": [],
   "source": [
    "class Neuron:\n",
    "  \n",
    "    def __init__ (self):\n",
    "        self.b = None\n",
    "        self.max = None\n",
    "\n",
    "    def model(self, x):\n",
    "        return(sum(x) >= self.b)\n",
    "  \n",
    "    def predict(self, X):\n",
    "        Y = []\n",
    "        for x in X:\n",
    "            result = self.model(x)\n",
    "            Y.append(result)\n",
    "        return np.array(Y)\n",
    "    \n",
    "    def fit(self, X, Y,val_X,val_y):\n",
    "        accuracy = {}\n",
    "    \n",
    "        for b in range(X.shape[1] + 1):\n",
    "            self.b = b\n",
    "            Y_pred = self.predict(X)\n",
    "            accuracy[b] = accuracy_rate(Y_pred, Y)\n",
    "      \n",
    "        best_b = max(accuracy, key = accuracy.get)\n",
    "        self.b = best_b\n",
    "        self.max = accuracy[best_b]\n",
    "        \n",
    "        \n",
    "    def max_accuracy(self):\n",
    "        return self.max\n",
    "        \n",
    "    def best_b(self):\n",
    "        return self.b"
   ]
  },
  {
   "cell_type": "code",
   "execution_count": 84,
   "id": "2cf795cb",
   "metadata": {},
   "outputs": [
    {
     "name": "stdout",
     "output_type": "stream",
     "text": [
      "Best B:  1 \n",
      "Validation Set Accuracy:  0.390625\n",
      "Test Set Accuracy:  0.3177083333333333\n"
     ]
    }
   ],
   "source": [
    "diabetes_neuron = Neuron()\n",
    "\n",
    "diabetes_neuron.fit(X_train,y_train, X_val, y_val)\n",
    "\n",
    "print('Best B: ',diabetes_neuron.best_b(),'\\nValidation Set Accuracy: ',diabetes_neuron.max_accuracy())\n",
    "\n",
    "y_neuron_test = diabetes_neuron.predict(X_test)\n",
    "\n",
    "print('Test Set Accuracy: ',accuracy_rate(y_neuron_test, y_test))"
   ]
  },
  {
   "cell_type": "markdown",
   "id": "f525b72a",
   "metadata": {},
   "source": [
    "## Perceptron Implementation (F. Rosenblat)"
   ]
  },
  {
   "cell_type": "code",
   "execution_count": 49,
   "id": "f28f0967",
   "metadata": {},
   "outputs": [],
   "source": [
    "class Perceptron:\n",
    "\n",
    "    def __init__ (self):\n",
    "        self.w = None\n",
    "        self.b = None\n",
    "        self.max = None\n",
    "    \n",
    "    def model(self, x):\n",
    "        if (np.dot(self.w, x) >= self.b):\n",
    "            return 1 \n",
    "        \n",
    "        else:\n",
    "            return 0\n",
    "  \n",
    "    def predict(self, X):\n",
    "        Y = []\n",
    "        for x in X:\n",
    "            result = self.model(x)\n",
    "            Y.append(result)\n",
    "        return np.array(Y)\n",
    "    \n",
    "    def fit(self, X, Y, val_X, val_Y, epochs = 10, lr = 0.1):\n",
    "        self.w = np.ones(X.shape[1])\n",
    "        self.b = 0\n",
    "        accuracy = {}\n",
    "        val_accuracy = {}\n",
    "        max_accuracy = 0\n",
    "        wt_matrix = []\n",
    "        \n",
    "        #for all epochs\n",
    "        for i in range(epochs):\n",
    "            for x, y in zip(X, Y):\n",
    "                y_pred = self.model(x)\n",
    "                \n",
    "                if y == 1 and y_pred == 0:\n",
    "                    self.w = self.w + lr * x\n",
    "                    self.b = self.b - lr * 1\n",
    "                elif y == 0 and y_pred == 1:\n",
    "                    self.w = self.w - lr * x\n",
    "                    self.b = self.b + lr * 1\n",
    "            wt_matrix.append(self.w)   \n",
    "            \n",
    "            #for train set \n",
    "            accuracy[i] = accuracy_rate(self.predict(X), Y)\n",
    "\n",
    "            \n",
    "            #for validation set\n",
    "            val_accuracy[i] = accuracy_rate(self.predict(val_X), val_Y)\n",
    "            \n",
    "            if (val_accuracy[i] > max_accuracy):\n",
    "                max_accuracy = val_accuracy[i]\n",
    "                chkptw = self.w\n",
    "                chkptb = self.b\n",
    "                \n",
    "                \n",
    "        #checkpoint (Save the weights and b value)\n",
    "        self.w = chkptw\n",
    "        self.b = chkptb\n",
    "        \n",
    "        self.max = max_accuracy\n",
    "        \n",
    "        #plot the accuracy values over epochs\n",
    "        plt.plot(accuracy.values())\n",
    "        plt.plot(val_accuracy.values())\n",
    "        plt.xlabel(\"Epoch #\")\n",
    "        plt.ylabel(\"Accuracy\")\n",
    "        plt.ylim([0, 1])\n",
    "        plt.show()\n",
    "    \n",
    "        return np.array(wt_matrix)\n",
    "    \n",
    "    def max_accuracy(self):\n",
    "        return self.max\n",
    "    \n",
    "    def best_b(self):\n",
    "        return self.b"
   ]
  },
  {
   "cell_type": "code",
   "execution_count": 103,
   "id": "86d42b31",
   "metadata": {},
   "outputs": [
    {
     "data": {
      "image/png": "[encoded data removed]",
      "text/plain": [
       "<Figure size 432x288 with 1 Axes>"
      ]
     },
     "metadata": {
      "needs_background": "light"
     },
     "output_type": "display_data"
    },
    {
     "name": "stdout",
     "output_type": "stream",
     "text": [
      "Best B:  -5.551115123125783e-17 \n",
      "Validation Set Accuracy:  0.7916666666666666\n",
      "Test Set Accuracy:  0.7395833333333334\n"
     ]
    }
   ],
   "source": [
    "diabetes_model = Perceptron()\n",
    "\n",
    "diabetes_model.fit(X_train,y_train,X_val,y_val,20,0.2)\n",
    "\n",
    "print('Best B: ', diabetes_model.best_b(),'\\nValidation Set Accuracy: ',diabetes_model.max_accuracy())\n",
    "\n",
    "y_pred_test = diabetes_model.predict(X_test)\n",
    "\n",
    "print('Test Set Accuracy: ',accuracy_rate(y_pred_test, y_test))"
   ]
  },
  {
   "cell_type": "code",
   "execution_count": 104,
   "id": "47ff33a7",
   "metadata": {},
   "outputs": [
    {
     "data": {
      "image/png": "[encoded data removed]",
      "text/plain": [
       "<Figure size 432x288 with 1 Axes>"
      ]
     },
     "metadata": {
      "needs_background": "light"
     },
     "output_type": "display_data"
    },
    {
     "name": "stdout",
     "output_type": "stream",
     "text": [
      "Best B:  -0.5 \n",
      "Validation Set Accuracy:  0.796875\n",
      "Test Set Accuracy:  0.7864583333333334\n"
     ]
    }
   ],
   "source": [
    "diabetes_model = Perceptron()\n",
    "\n",
    "diabetes_model.fit(X_train,y_train,X_val,y_val,20,0.5)\n",
    "\n",
    "print('Best B: ', diabetes_model.best_b(),'\\nValidation Set Accuracy: ',diabetes_model.max_accuracy())\n",
    "\n",
    "y_pred_test = diabetes_model.predict(X_test)\n",
    "\n",
    "print('Test Set Accuracy: ',accuracy_rate(y_pred_test, y_test))"
   ]
  },
  {
   "cell_type": "code",
   "execution_count": 108,
   "id": "ee315355",
   "metadata": {},
   "outputs": [
    {
     "data": {
      "image/png": "[encoded data removed]",
      "text/plain": [
       "<Figure size 432x288 with 1 Axes>"
      ]
     },
     "metadata": {
      "needs_background": "light"
     },
     "output_type": "display_data"
    },
    {
     "name": "stdout",
     "output_type": "stream",
     "text": [
      "Best B:  -0.8999999999999998 \n",
      "Validation Set Accuracy:  0.78125\n",
      "Test Set Accuracy:  0.7447916666666666\n"
     ]
    }
   ],
   "source": [
    "diabetes_model = Perceptron()\n",
    "\n",
    "diabetes_model.fit(X_train,y_train,X_val,y_val,20,0.9)\n",
    "\n",
    "print('Best B: ', diabetes_model.best_b(),'\\nValidation Set Accuracy: ',diabetes_model.max_accuracy())\n",
    "\n",
    "y_pred_test = diabetes_model.predict(X_test)\n",
    "\n",
    "print('Test Set Accuracy: ',accuracy_rate(y_pred_test, y_test))"
   ]
  },
  {
   "cell_type": "code",
   "execution_count": 117,
   "id": "160133a8",
   "metadata": {},
   "outputs": [
    {
     "data": {
      "image/png": "[encoded data removed]",
      "text/plain": [
       "<Figure size 432x288 with 1 Axes>"
      ]
     },
     "metadata": {
      "needs_background": "light"
     },
     "output_type": "display_data"
    },
    {
     "name": "stdout",
     "output_type": "stream",
     "text": [
      "Best B:  -0.5 \n",
      "Validation Set Accuracy:  0.796875\n",
      "Test Set Accuracy:  0.7864583333333334\n"
     ]
    }
   ],
   "source": [
    "diabetes_model = Perceptron()\n",
    "\n",
    "diabetes_model.fit(X_train,y_train,X_val,y_val,10,0.5)\n",
    "\n",
    "print('Best B: ', diabetes_model.best_b(),'\\nValidation Set Accuracy: ',diabetes_model.max_accuracy())\n",
    "\n",
    "y_pred_test = diabetes_model.predict(X_test)\n",
    "\n",
    "print('Test Set Accuracy: ',accuracy_rate(y_pred_test, y_test))"
   ]
  },
  {
   "cell_type": "code",
   "execution_count": 111,
   "id": "1ae09418",
   "metadata": {},
   "outputs": [
    {
     "data": {
      "image/png": "[encoded data removed]",
      "text/plain": [
       "<Figure size 432x288 with 1 Axes>"
      ]
     },
     "metadata": {
      "needs_background": "light"
     },
     "output_type": "display_data"
    },
    {
     "name": "stdout",
     "output_type": "stream",
     "text": [
      "Best B:  -0.5 \n",
      "Validation Set Accuracy:  0.796875\n",
      "Test Set Accuracy:  0.7864583333333334\n"
     ]
    }
   ],
   "source": [
    "diabetes_model = Perceptron()\n",
    "\n",
    "diabetes_model.fit(X_train,y_train,X_val,y_val,20,0.5)\n",
    "\n",
    "print('Best B: ', diabetes_model.best_b(),'\\nValidation Set Accuracy: ',diabetes_model.max_accuracy())\n",
    "\n",
    "y_pred_test = diabetes_model.predict(X_test)\n",
    "\n",
    "print('Test Set Accuracy: ',accuracy_rate(y_pred_test, y_test))"
   ]
  },
  {
   "cell_type": "code",
   "execution_count": 113,
   "id": "942667c1",
   "metadata": {},
   "outputs": [
    {
     "data": {
      "image/png": "[encoded data removed]",
      "text/plain": [
       "<Figure size 432x288 with 1 Axes>"
      ]
     },
     "metadata": {
      "needs_background": "light"
     },
     "output_type": "display_data"
    },
    {
     "name": "stdout",
     "output_type": "stream",
     "text": [
      "Best B:  0.0 \n",
      "Validation Set Accuracy:  0.8020833333333334\n",
      "Test Set Accuracy:  0.7708333333333334\n"
     ]
    }
   ],
   "source": [
    "diabetes_model = Perceptron()\n",
    "\n",
    "diabetes_model.fit(X_train,y_train,X_val,y_val,100,0.5)\n",
    "\n",
    "print('Best B: ', diabetes_model.best_b(),'\\nValidation Set Accuracy: ',diabetes_model.max_accuracy())\n",
    "\n",
    "y_pred_test = diabetes_model.predict(X_test)\n",
    "\n",
    "print('Test Set Accuracy: ',accuracy_rate(y_pred_test, y_test))"
   ]
  },
  {
   "cell_type": "code",
   "execution_count": 114,
   "id": "98e5a569",
   "metadata": {},
   "outputs": [
    {
     "data": {
      "image/png": "[encoded data removed]",
      "text/plain": [
       "<Figure size 432x288 with 1 Axes>"
      ]
     },
     "metadata": {
      "needs_background": "light"
     },
     "output_type": "display_data"
    },
    {
     "name": "stdout",
     "output_type": "stream",
     "text": [
      "Best B:  -0.5 \n",
      "Validation Set Accuracy:  0.8072916666666666\n",
      "Test Set Accuracy:  0.7760416666666666\n"
     ]
    }
   ],
   "source": [
    "diabetes_model = Perceptron()\n",
    "\n",
    "diabetes_model.fit(X_train,y_train,X_val,y_val,200,0.5)\n",
    "\n",
    "print('Best B: ', diabetes_model.best_b(),'\\nValidation Set Accuracy: ',diabetes_model.max_accuracy())\n",
    "\n",
    "y_pred_test = diabetes_model.predict(X_test)\n",
    "\n",
    "print('Test Set Accuracy: ',accuracy_rate(y_pred_test, y_test))"
   ]
  }
 ],
 "metadata": {
  "kernelspec": {
   "display_name": "Python 3 (ipykernel)",
   "language": "python",
   "name": "python3"
  },
  "language_info": {
   "codemirror_mode": {
    "name": "ipython",
    "version": 3
   },
   "file_extension": ".py",
   "mimetype": "text/x-python",
   "name": "python",
   "nbconvert_exporter": "python",
   "pygments_lexer": "ipython3",
   "version": "3.9.13"
  }
 },
 "nbformat": 4,
 "nbformat_minor": 5
}
